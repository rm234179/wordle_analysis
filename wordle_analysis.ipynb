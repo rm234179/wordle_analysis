{
 "cells": [
  {
   "cell_type": "markdown",
   "metadata": {},
   "source": [
    "# Wordle Analysis\n",
    "--------\n",
    "**What is Wordle?**\n",
    "\n",
    "Wordle is a web-based word game developed by Welsh-born software engineer Josh Wardle. Players have six attempts to guess a five-letter word\n",
    "\n",
    "----\n",
    "\n",
    "<img src=\"images/wordle_splash.png\" width=\"400\">"
   ]
  },
  {
   "cell_type": "code",
   "execution_count": null,
   "metadata": {},
   "outputs": [],
   "source": [
    "import string\n",
    "import time\n",
    "import matplotlib.pyplot as plt\n",
    "import numpy as np\n",
    "import solve_wordle"
   ]
  },
  {
   "cell_type": "markdown",
   "metadata": {},
   "source": [
    "# Getting the dictionary\n",
    "\n",
    "**How did we get the words?**\n",
    "\n",
    "1. Right-click and inspect\n",
    "2. Go to sources and download the javascript\n",
    "3. Prettify the source and find the word lists\n",
    "4. Save the words to JSON\n",
    "\n",
    "------\n",
    "<img src=\"images/how_to_get_words.png\" width=\"800\">\n",
    "\n",
    "------\n",
    "<img src=\"images/words_json.png\" width=\"600\">"
   ]
  },
  {
   "cell_type": "markdown",
   "metadata": {},
   "source": [
    "# Load the dictionary"
   ]
  },
  {
   "cell_type": "code",
   "execution_count": null,
   "metadata": {},
   "outputs": [],
   "source": [
    "all_words = solve_wordle.load_words(\"wordle_words.json\")\n",
    "print(f\"Total number of words: {len(all_words)}\")"
   ]
  },
  {
   "cell_type": "code",
   "execution_count": null,
   "metadata": {},
   "outputs": [],
   "source": [
    "print(\"First 100 words:\")\n",
    "print(all_words[0:100])"
   ]
  },
  {
   "cell_type": "markdown",
   "metadata": {},
   "source": [
    "# Analysis of words and letters"
   ]
  },
  {
   "cell_type": "code",
   "execution_count": null,
   "metadata": {},
   "outputs": [],
   "source": [
    "words_by_letter = solve_wordle.get_words_by_letter(all_words)\n",
    "word_count_by_letter = {letter: len(words_by_letter[letter]) for letter in words_by_letter}\n",
    "# for letter in word_count_by_letter:\n",
    "#     print(letter, word_count_by_letter[letter])"
   ]
  },
  {
   "cell_type": "code",
   "execution_count": null,
   "metadata": {},
   "outputs": [],
   "source": [
    "fig, ax = plt.subplots(figsize=(16,6))\n",
    "ax.bar(range(26), word_count_by_letter.values(), tick_label=list(word_count_by_letter.keys()));\n",
    "ax.set_title(\"Number of words for each letter\", loc='left');"
   ]
  },
  {
   "cell_type": "markdown",
   "metadata": {},
   "source": [
    "# Which words has the most common letters?\n",
    "\n",
    "```Python\n",
    "for word in all_words:\n",
    "    words_score = 0\n",
    "    for letter in word:\n",
    "        words_score += len(words_by_letter[letter])\n",
    "```"
   ]
  },
  {
   "cell_type": "code",
   "execution_count": null,
   "metadata": {},
   "outputs": [],
   "source": [
    "guesses = solve_wordle.get_most_unique_score_look_at_letter_score(all_words, all_words, [], [])\n",
    "for score, word in guesses[0:10]:\n",
    "    print(f\"{word} with a score of {int(score)}\")\n"
   ]
  },
  {
   "cell_type": "markdown",
   "metadata": {},
   "source": [
    "# Which word overlaps with the most other words?\n",
    "\n",
    "This eliminates double counting words that show up for multiple letters. \n",
    "\n",
    "```Python\n",
    "for word in all_words:\n",
    "    words_that_overlap = set()\n",
    "    for letter in word:\n",
    "        words_that_overlap.union(words_by_letter[letter])\n",
    "    score = len(words_that_overlap)\n",
    "```"
   ]
  },
  {
   "cell_type": "code",
   "execution_count": null,
   "metadata": {},
   "outputs": [],
   "source": [
    "guesses = solve_wordle.get_most_unique_score_look_at_allowed_words(all_words, all_words, [], [])\n",
    "for score, word in guesses[0:10]:\n",
    "    print(f\"{word} with a score of {score}\")"
   ]
  },
  {
   "cell_type": "markdown",
   "metadata": {},
   "source": [
    "# First word\n",
    "\n",
    "Note this was from February 4, 2022.\n",
    "\n",
    "Plug in **TOEAS** and figure out what info Wordle gives us. Remember that \n",
    "- green = the letter is in the word and in the correct spot\n",
    "- yellow = the letter is in the word but in the wrong spot\n",
    "- gray = the letter is not in the word\n",
    "\n",
    "<img src=\"images/toeas.png\" width=\"400\">\n",
    "\n"
   ]
  },
  {
   "cell_type": "markdown",
   "metadata": {},
   "source": [
    "# What did we learn?\n",
    "Here is the info we learned:\n",
    "- The word has **T** but it is not the first letter\n",
    "- The word does not have an **O**\n",
    "- The word has at least one **E** in the 3rd spot\n",
    "- The word has at least one **A** in the 4th spot\n",
    "- The word does not have an **S**\n",
    "\n",
    "Now translate that into data."
   ]
  },
  {
   "cell_type": "code",
   "execution_count": null,
   "metadata": {},
   "outputs": [],
   "source": [
    "required_letters = set()\n",
    "exclude_letters = set()\n",
    "\n",
    "required_letters.add(('t', None)) # The word has T but it is not the first letter\n",
    "exclude_letters.add(('t', 0))     # The word has T but it is not the first letter\n",
    "\n",
    "exclude_letters.add(('o', None))  # The word does not have an O\n",
    "\n",
    "required_letters.add(('e', 2))    # The word has at least one E in the 3rd spot\n",
    "\n",
    "required_letters.add(('a', 3))    # The word has at least one A in the 4th spot\n",
    "\n",
    "exclude_letters.add(('s', None))  # The word does not have an S"
   ]
  },
  {
   "cell_type": "markdown",
   "metadata": {},
   "source": [
    "# Find all the words that are allowed\n",
    "Use the data to filter the dictionary to only words that satisfy the rules we created"
   ]
  },
  {
   "cell_type": "code",
   "execution_count": null,
   "metadata": {},
   "outputs": [],
   "source": [
    "allowed_words, not_allowed_words = solve_wordle.get_words_with_letters(all_words, required_letters, exclude_letters)\n",
    "print(f\"Number of words eliminated {len(not_allowed_words)}\")\n",
    "print(f\"Number of potential words left {len(allowed_words)}\")\n",
    "for i, word in enumerate(allowed_words):\n",
    "    print(f\"{i}. {word}\")"
   ]
  },
  {
   "cell_type": "markdown",
   "metadata": {},
   "source": [
    "# Find the guess for the second word\n",
    "Now that we have an algorithm we just repeat until we find the solution"
   ]
  },
  {
   "cell_type": "code",
   "execution_count": null,
   "metadata": {},
   "outputs": [],
   "source": [
    "guesses = solve_wordle.get_most_unique_score_look_at_allowed_words(allowed_words, all_words, [], [])\n",
    "for score, word in guesses:\n",
    "    print(f\"{word} with a score of {int(score)}\")"
   ]
  },
  {
   "cell_type": "markdown",
   "metadata": {},
   "source": [
    "# Second word\n",
    "\n",
    "<img src=\"images/cleat.png\" width=\"400\">"
   ]
  },
  {
   "cell_type": "code",
   "execution_count": null,
   "metadata": {},
   "outputs": [],
   "source": [
    "exclude_letters.add(('c', None))  # The word does not have an C\n",
    "required_letters.add(('l',1)) # The word has at least one L in the 2rd spot\n",
    "required_letters.add(('t', 4))    # The word has at least one T in the 5th spot"
   ]
  },
  {
   "cell_type": "code",
   "execution_count": null,
   "metadata": {},
   "outputs": [],
   "source": [
    "allowed_words, not_allowed_words = solve_wordle.get_words_with_letters(all_words, required_letters, exclude_letters)\n",
    "print(f\"Number of words eliminated {len(not_allowed_words)}\")\n",
    "print(f\"Number of potential words left {len(allowed_words)}\")\n",
    "for i in allowed_words:\n",
    "    print(i)"
   ]
  },
  {
   "cell_type": "markdown",
   "metadata": {},
   "source": [
    "# Find the guess for the thrid word"
   ]
  },
  {
   "cell_type": "code",
   "execution_count": null,
   "metadata": {},
   "outputs": [],
   "source": [
    "guesses = solve_wordle.get_most_unique_score_look_at_all_words(allowed_words, allowed_words, [], [])\n",
    "for score, word in guesses:\n",
    "    print(f\"{word} with a score of {int(score)}\")"
   ]
  },
  {
   "cell_type": "markdown",
   "metadata": {},
   "source": [
    "# Third word\n",
    "\n",
    "<img src=\"images/pleat.png\" width=\"400\">"
   ]
  },
  {
   "cell_type": "markdown",
   "metadata": {},
   "source": [
    "# Compare alogirhtms\n",
    "\n",
    "Let's look at how many guesses it takes to find 1,000 words in the dictionary and answer the following questions.\n",
    "\n",
    "- How many guesses does it take to find a word?\n",
    "- How long does the computer take to calculate the answer?"
   ]
  },
  {
   "cell_type": "code",
   "execution_count": null,
   "metadata": {},
   "outputs": [],
   "source": [
    "x = range(0, 15)\n",
    "def plot_bar(number_words_by_count):\n",
    "    y = [number_words_by_count.get(i,0) for i in x]\n",
    "    \n",
    "    fig, ax = plt.subplots(figsize=(16,4))\n",
    "    ax.bar(x, y_allowed_letters, tick_label=x);\n",
    "    ax.set_xlim([0.5, 14.5])\n",
    "    ax.set_ylim([0, 400])\n",
    "    ax.set_xlabel('Number guesses to solve')\n",
    "    ax.set_title(\"Number of words\", loc='left');\n",
    "    return y"
   ]
  },
  {
   "cell_type": "markdown",
   "metadata": {},
   "source": [
    "# Just look at letter scores for allowed words"
   ]
  },
  {
   "cell_type": "code",
   "execution_count": null,
   "metadata": {},
   "outputs": [],
   "source": [
    "dt_letter_score = 7.276570796966553\n",
    "number_words_by_count = {2: 12, 3: 151, 4: 332, 5: 269, 6: 127, 7: 51, 8: 28, 9: 19, 10: 6, 11: 2, 12: 1, 13: 2}\n",
    "y_allowed_letters = plot_bar(number_words_by_count)"
   ]
  },
  {
   "cell_type": "markdown",
   "metadata": {},
   "source": [
    "# Just look at letter scores for all words\n",
    "Give a small bonus to allowed words"
   ]
  },
  {
   "cell_type": "code",
   "execution_count": null,
   "metadata": {},
   "outputs": [],
   "source": [
    "dt_letter_score = 14.363650798797607\n",
    "number_words_by_count = {2: 9, 3: 138, 4: 339, 5: 281, 6: 134, 7: 48, 8: 21, 9: 18, 10: 7, 11: 2, 12: 1, 13: 2}\n",
    "y_all_letters = plot_bar(number_words_by_count)"
   ]
  },
  {
   "cell_type": "markdown",
   "metadata": {},
   "source": [
    "# Look at allowed words"
   ]
  },
  {
   "cell_type": "code",
   "execution_count": null,
   "metadata": {},
   "outputs": [],
   "source": [
    "dt_allowed_words_score = 4591.0739669799805\n",
    "number_words_by_count = {2: 15, 3: 144, 4: 345, 5: 260, 6: 123, 7: 55, 8: 26, 9: 18, 10: 7, 11: 5, 14: 2}\n",
    "y_allowed_words = plot_bar(number_words_by_count)"
   ]
  },
  {
   "cell_type": "markdown",
   "metadata": {},
   "source": [
    "# Look at all words to find best letters"
   ]
  },
  {
   "cell_type": "code",
   "execution_count": null,
   "metadata": {},
   "outputs": [],
   "source": [
    "dt = 5000.753873825073\n",
    "number_words_by_count = {2: 2, 3: 99, 4: 370, 5: 365, 6: 143, 7: 17, 8: 4}\n",
    "y_all_words = plot_bar(number_words_by_count)"
   ]
  },
  {
   "cell_type": "markdown",
   "metadata": {},
   "source": [
    "# Compare all algorithms"
   ]
  },
  {
   "cell_type": "code",
   "execution_count": null,
   "metadata": {},
   "outputs": [],
   "source": [
    "fig, ax = plt.subplots(figsize=(16,4))\n",
    "ax.step(x, y_allowed_letters, where='mid', label='Letter score allowed words');\n",
    "ax.step(x, y_all_letters, where='mid', label='Letter score all words');\n",
    "ax.step(x, y_allowed_words, where='mid', label='Word set allowed words');\n",
    "ax.step(x, y_all_words, where='mid', label='Word set all words');\n",
    "ax.set_xlim([0.5, 14.5])\n",
    "ax.set_ylim([0, 400])\n",
    "ax.set_xlabel('Number guesses to solve')\n",
    "ax.set_xticks(x)\n",
    "ax.set_xticklabels(x)\n",
    "ax.legend(loc='best')\n",
    "ax.set_title(\"Number of words\", loc='left');"
   ]
  },
  {
   "cell_type": "code",
   "execution_count": null,
   "metadata": {},
   "outputs": [],
   "source": [
    "fig, ax = plt.subplots(figsize=(16,6))\n",
    "ax.barh(range(4), \n",
    "        [sum(y_allowed_letters[7:]), sum(y_all_letters[7:]), sum(y_allowed_words[7:]), sum(y_all_words[7:])], \n",
    "        tick_label=['Letter score allowed words', 'Letter score all words', 'Word set allowed words', 'Word set all words'])\n",
    "ax.invert_yaxis()\n",
    "ax.set_xlabel('Number words requiring more than 6 guesses')\n",
    "ax.set_title(\"Wordle fails by algorithm\", loc='left');"
   ]
  },
  {
   "cell_type": "markdown",
   "metadata": {},
   "source": [
    "# Other ideas\n",
    "\n",
    "## What about paying attention to letter placement"
   ]
  },
  {
   "cell_type": "code",
   "execution_count": null,
   "metadata": {},
   "outputs": [],
   "source": [
    "letter_count_by_location = np.zeros([5, 26])\n",
    "letter_to_index = {letter: i for i, letter in enumerate(string.ascii_lowercase)}\n",
    "for word in all_words:\n",
    "    for i in range(5):\n",
    "        letter_count_by_location[i, letter_to_index[word[i]]] += 1\n",
    "fig, ax = plt.subplots(figsize=(17,6))\n",
    "im = ax.imshow(letter_count_by_location)\n",
    "ax.set_xticks(np.arange(26))\n",
    "ax.set_xticklabels(string.ascii_lowercase)\n",
    "cbar = ax.figure.colorbar(im, ax=ax, orientation='horizontal')\n",
    "ax.set_title(\"Count of letters by location in word\", loc='left');"
   ]
  },
  {
   "cell_type": "code",
   "execution_count": null,
   "metadata": {},
   "outputs": [],
   "source": []
  }
 ],
 "metadata": {
  "kernelspec": {
   "display_name": "Python 3",
   "language": "python",
   "name": "python3"
  },
  "language_info": {
   "codemirror_mode": {
    "name": "ipython",
    "version": 3
   },
   "file_extension": ".py",
   "mimetype": "text/x-python",
   "name": "python",
   "nbconvert_exporter": "python",
   "pygments_lexer": "ipython3",
   "version": "3.9.5"
  }
 },
 "nbformat": 4,
 "nbformat_minor": 4
}
