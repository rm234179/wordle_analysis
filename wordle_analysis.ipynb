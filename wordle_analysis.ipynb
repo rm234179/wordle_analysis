{
 "cells": [
  {
   "cell_type": "markdown",
   "metadata": {},
   "source": [
    "# Wordle Analysis\n",
    "--------\n",
    "**What is Wordle?**\n",
    "\n",
    "Wordle is a web-based word game developed by Welsh-born software engineer Josh Wardle. Players have six attempts to guess a five-letter word\n",
    "\n",
    "----\n",
    "\n",
    "<img src=\"images/wordle_splash.png\" width=\"400\">"
   ]
  },
  {
   "cell_type": "code",
   "execution_count": 1,
   "metadata": {},
   "outputs": [],
   "source": [
    "import string\n",
    "import time\n",
    "import matplotlib.pyplot as plt\n",
    "import numpy as np\n",
    "import solve_wordle"
   ]
  },
  {
   "cell_type": "markdown",
   "metadata": {},
   "source": [
    "# Getting the dictionary\n",
    "\n",
    "**How did we get the words?**\n",
    "\n",
    "1. Right-click and inspect\n",
    "2. Go to sources and download the javascript\n",
    "3. Prettify the source and find the word lists\n",
    "4. Save the words to JSON\n",
    "\n",
    "------\n",
    "<img src=\"images/how_to_get_words.png\" width=\"800\">\n",
    "\n",
    "------\n",
    "<img src=\"images/words_json.png\" width=\"600\">"
   ]
  },
  {
   "cell_type": "markdown",
   "metadata": {},
   "source": [
    "# Load the dictionary"
   ]
  },
  {
   "cell_type": "code",
   "execution_count": 2,
   "metadata": {},
   "outputs": [
    {
     "name": "stdout",
     "output_type": "stream",
     "text": [
      "Total number of words: 12972\n"
     ]
    }
   ],
   "source": [
    "all_words = solve_wordle.load_words(\"wordle_words.json\")\n",
    "print(f\"Total number of words: {len(all_words)}\")"
   ]
  },
  {
   "cell_type": "code",
   "execution_count": 3,
   "metadata": {},
   "outputs": [
    {
     "name": "stdout",
     "output_type": "stream",
     "text": [
      "First 100 words:\n",
      "['aahed', 'aalii', 'aargh', 'aarti', 'abaca', 'abaci', 'aback', 'abacs', 'abaft', 'abaka', 'abamp', 'aband', 'abase', 'abash', 'abask', 'abate', 'abaya', 'abbas', 'abbed', 'abbes', 'abbey', 'abbot', 'abcee', 'abeam', 'abear', 'abele', 'abers', 'abets', 'abhor', 'abide', 'abies', 'abled', 'abler', 'ables', 'ablet', 'ablow', 'abmho', 'abode', 'abohm', 'aboil', 'aboma', 'aboon', 'abord', 'abore', 'abort', 'about', 'above', 'abram', 'abray', 'abrim', 'abrin', 'abris', 'absey', 'absit', 'abuna', 'abune', 'abuse', 'abuts', 'abuzz', 'abyes', 'abysm', 'abyss', 'acais', 'acari', 'accas', 'accoy', 'acerb', 'acers', 'aceta', 'achar', 'ached', 'aches', 'achoo', 'acids', 'acidy', 'acing', 'acini', 'ackee', 'acker', 'acmes', 'acmic', 'acned', 'acnes', 'acock', 'acold', 'acorn', 'acred', 'acres', 'acrid', 'acros', 'acted', 'actin', 'acton', 'actor', 'acute', 'acyls', 'adage', 'adapt', 'adaws', 'adays']\n"
     ]
    }
   ],
   "source": [
    "print(\"First 100 words:\")\n",
    "print(all_words[0:100])"
   ]
  },
  {
   "cell_type": "markdown",
   "metadata": {},
   "source": [
    "# Analysis of words and letters"
   ]
  },
  {
   "cell_type": "code",
   "execution_count": 4,
   "metadata": {},
   "outputs": [],
   "source": [
    "words_by_letter = solve_wordle.get_words_by_letter(all_words)\n",
    "word_count_by_letter = {letter: len(words_by_letter[letter]) for letter in words_by_letter}\n",
    "# for letter in word_count_by_letter:\n",
    "#     print(letter, word_count_by_letter[letter])"
   ]
  },
  {
   "cell_type": "code",
   "execution_count": 5,
   "metadata": {},
   "outputs": [
    {
     "data": {
      "image/png": "[encoded data removed]",
      "text/plain": [
       "<Figure size 1152x432 with 1 Axes>"
      ]
     },
     "metadata": {
      "needs_background": "light"
     },
     "output_type": "display_data"
    }
   ],
   "source": [
    "fig, ax = plt.subplots(figsize=(16,6))\n",
    "ax.bar(range(26), word_count_by_letter.values(), tick_label=list(word_count_by_letter.keys()));\n",
    "ax.set_title(\"Number of words for each letter\", loc='left');"
   ]
  },
  {
   "cell_type": "markdown",
   "metadata": {},
   "source": [
    "# Which words has the most common letters?\n",
    "\n",
    "```Python\n",
    "for word in all_words:\n",
    "    words_score = 0\n",
    "    for letter in word:\n",
    "        words_score += len(words_by_letter[letter])\n",
    "```"
   ]
  },
  {
   "cell_type": "code",
   "execution_count": 6,
   "metadata": {},
   "outputs": [
    {
     "name": "stdout",
     "output_type": "stream",
     "text": [
      "soare with a score of 24791\n",
      "arose with a score of 24791\n",
      "aeros with a score of 24791\n",
      "serai with a score of 24469\n",
      "reais with a score of 24469\n",
      "raise with a score of 24469\n",
      "arise with a score of 24469\n",
      "aesir with a score of 24469\n",
      "aloes with a score of 23996\n",
      "seral with a score of 23994\n"
     ]
    }
   ],
   "source": [
    "guesses = solve_wordle.get_most_unique_score_look_at_letter_score(all_words, all_words, [], [])\n",
    "for score, word in guesses[0:10]:\n",
    "    print(f\"{word} with a score of {int(score)}\")\n"
   ]
  },
  {
   "cell_type": "markdown",
   "metadata": {},
   "source": [
    "# Which word overlaps with the most other words?\n",
    "\n",
    "This eliminates double counting words that show up for multiple letters. \n",
    "\n",
    "```Python\n",
    "for word in all_words:\n",
    "    words_that_overlap = set()\n",
    "    for letter in word:\n",
    "        words_that_overlap.union(words_by_letter[letter])\n",
    "    score = len(words_that_overlap)\n",
    "```"
   ]
  },
  {
   "cell_type": "code",
   "execution_count": 7,
   "metadata": {},
   "outputs": [
    {
     "name": "stdout",
     "output_type": "stream",
     "text": [
      "toeas with a score of 12417\n",
      "stoae with a score of 12417\n",
      "aloes with a score of 12412\n",
      "aeons with a score of 12407\n",
      "soare with a score of 12395\n",
      "arose with a score of 12395\n",
      "aeros with a score of 12395\n",
      "serai with a score of 12346\n",
      "reais with a score of 12346\n",
      "raise with a score of 12346\n"
     ]
    }
   ],
   "source": [
    "guesses = solve_wordle.get_most_unique_score_look_at_allowed_words(all_words, all_words, [], [])\n",
    "for score, word in guesses[0:10]:\n",
    "    print(f\"{word} with a score of {score}\")"
   ]
  },
  {
   "cell_type": "markdown",
   "metadata": {},
   "source": [
    "# First word\n",
    "\n",
    "Note this was from February 4, 2022.\n",
    "\n",
    "Plug in **TOEAS** and figure out what info Wordle gives us. Remember that \n",
    "- green = the letter is in the word and in the correct spot\n",
    "- yellow = the letter is in the word but in the wrong spot\n",
    "- gray = the letter is not in the word\n",
    "\n",
    "<img src=\"images/toeas.png\" width=\"400\">\n",
    "\n"
   ]
  },
  {
   "cell_type": "markdown",
   "metadata": {},
   "source": [
    "# What did we learn?\n",
    "Here is the info we learned:\n",
    "- The word has **T** but it is not the first letter\n",
    "- The word does not have an **O**\n",
    "- The word has at least one **E** in the 3rd spot\n",
    "- The word has at least one **A** in the 4th spot\n",
    "- The word does not have an **S**\n",
    "\n",
    "Now translate that into data."
   ]
  },
  {
   "cell_type": "code",
   "execution_count": 8,
   "metadata": {},
   "outputs": [],
   "source": [
    "required_letters = set()\n",
    "exclude_letters = set()\n",
    "\n",
    "required_letters.add(('t', None)) # The word has T but it is not the first letter\n",
    "exclude_letters.add(('t', 0))     # The word has T but it is not the first letter\n",
    "\n",
    "exclude_letters.add(('o', None))  # The word does not have an O\n",
    "\n",
    "required_letters.add(('e', 2))    # The word has at least one E in the 3rd spot\n",
    "\n",
    "required_letters.add(('a', 3))    # The word has at least one A in the 4th spot\n",
    "\n",
    "exclude_letters.add(('s', None))  # The word does not have an S"
   ]
  },
  {
   "cell_type": "markdown",
   "metadata": {},
   "source": [
    "# Find all the words that are allowed\n",
    "Use the data to filter the dictionary to only words that satisfy the rules we created"
   ]
  },
  {
   "cell_type": "code",
   "execution_count": 9,
   "metadata": {},
   "outputs": [
    {
     "name": "stdout",
     "output_type": "stream",
     "text": [
      "Number of words eliminated 12965\n",
      "Number of potential words left 7\n",
      "0. cleat\n",
      "1. wheat\n",
      "2. great\n",
      "3. bleat\n",
      "4. cheat\n",
      "5. exeat\n",
      "6. pleat\n"
     ]
    }
   ],
   "source": [
    "allowed_words, not_allowed_words = solve_wordle.get_words_with_letters(all_words, required_letters, exclude_letters)\n",
    "print(f\"Number of words eliminated {len(not_allowed_words)}\")\n",
    "print(f\"Number of potential words left {len(allowed_words)}\")\n",
    "for i, word in enumerate(allowed_words):\n",
    "    print(f\"{i}. {word}\")"
   ]
  },
  {
   "cell_type": "markdown",
   "metadata": {},
   "source": [
    "# Find the guess for the second word\n",
    "Now that we have an algorithm we just repeat until we find the solution"
   ]
  },
  {
   "cell_type": "code",
   "execution_count": 10,
   "metadata": {},
   "outputs": [
    {
     "name": "stdout",
     "output_type": "stream",
     "text": [
      "cleat with a score of 4\n",
      "pleat with a score of 3\n",
      "cheat with a score of 3\n",
      "bleat with a score of 3\n",
      "wheat with a score of 2\n",
      "great with a score of 1\n",
      "exeat with a score of 1\n"
     ]
    }
   ],
   "source": [
    "guesses = solve_wordle.get_most_unique_score_look_at_allowed_words(allowed_words, all_words, [], [])\n",
    "for score, word in guesses:\n",
    "    print(f\"{word} with a score of {int(score)}\")"
   ]
  },
  {
   "cell_type": "markdown",
   "metadata": {},
   "source": [
    "# Second word\n",
    "\n",
    "<img src=\"images/cleat.png\" width=\"400\">"
   ]
  },
  {
   "cell_type": "code",
   "execution_count": 11,
   "metadata": {},
   "outputs": [],
   "source": [
    "exclude_letters.add(('c', None))  # The word does not have an C\n",
    "required_letters.add(('l',1)) # The word has at least one L in the 2rd spot\n",
    "required_letters.add(('t', 4))    # The word has at least one T in the 5th spot"
   ]
  },
  {
   "cell_type": "code",
   "execution_count": 12,
   "metadata": {},
   "outputs": [
    {
     "name": "stdout",
     "output_type": "stream",
     "text": [
      "Number of words eliminated 12970\n",
      "Number of potential words left 2\n",
      "bleat\n",
      "pleat\n"
     ]
    }
   ],
   "source": [
    "allowed_words, not_allowed_words = solve_wordle.get_words_with_letters(all_words, required_letters, exclude_letters)\n",
    "print(f\"Number of words eliminated {len(not_allowed_words)}\")\n",
    "print(f\"Number of potential words left {len(allowed_words)}\")\n",
    "for i in allowed_words:\n",
    "    print(i)"
   ]
  },
  {
   "cell_type": "markdown",
   "metadata": {},
   "source": [
    "# Find the guess for the thrid word"
   ]
  },
  {
   "cell_type": "code",
   "execution_count": 13,
   "metadata": {},
   "outputs": [
    {
     "name": "stdout",
     "output_type": "stream",
     "text": [
      "pleat with a score of 1\n",
      "bleat with a score of 1\n"
     ]
    }
   ],
   "source": [
    "guesses = solve_wordle.get_most_unique_score_look_at_all_words(allowed_words, allowed_words, [], [])\n",
    "for score, word in guesses:\n",
    "    print(f\"{word} with a score of {int(score)}\")"
   ]
  },
  {
   "cell_type": "markdown",
   "metadata": {},
   "source": [
    "# Third word\n",
    "\n",
    "<img src=\"images/pleat.png\" width=\"400\">"
   ]
  },
  {
   "cell_type": "markdown",
   "metadata": {},
   "source": [
    "# Compare alogirhtms\n",
    "\n",
    "Let's look at how many guesses it takes to find 1,000 words in the dictionary and answer the following questions.\n",
    "\n",
    "- How many guesses does it take to find a word?\n",
    "- How long does the computer take to calculate the answer?"
   ]
  },
  {
   "cell_type": "code",
   "execution_count": 16,
   "metadata": {},
   "outputs": [],
   "source": [
    "x = range(0, 15)\n",
    "def plot_bar(number_words_by_count):\n",
    "    y = [number_words_by_count.get(i,0) for i in x]\n",
    "    \n",
    "    fig, ax = plt.subplots(figsize=(16,4))\n",
    "    ax.bar(x, y, tick_label=x);\n",
    "    ax.set_xlim([0.5, 14.5])\n",
    "    ax.set_ylim([0, 400])\n",
    "    ax.set_xlabel('Number guesses to solve')\n",
    "    ax.set_title(\"Number of words\", loc='left');\n",
    "    return y"
   ]
  },
  {
   "cell_type": "markdown",
   "metadata": {},
   "source": [
    "# Just look at letter scores for allowed words"
   ]
  },
  {
   "cell_type": "code",
   "execution_count": 17,
   "metadata": {},
   "outputs": [
    {
     "data": {
      "image/png": "[encoded data removed]",
      "text/plain": [
       "<Figure size 1152x288 with 1 Axes>"
      ]
     },
     "metadata": {
      "needs_background": "light"
     },
     "output_type": "display_data"
    }
   ],
   "source": [
    "dt_letter_score = 7.276570796966553\n",
    "number_words_by_count = {2: 12, 3: 151, 4: 332, 5: 269, 6: 127, 7: 51, 8: 28, 9: 19, 10: 6, 11: 2, 12: 1, 13: 2}\n",
    "y_allowed_letters = plot_bar(number_words_by_count)"
   ]
  },
  {
   "cell_type": "markdown",
   "metadata": {},
   "source": [
    "# Just look at letter scores for all words\n",
    "Give a small bonus to allowed words"
   ]
  },
  {
   "cell_type": "code",
   "execution_count": 18,
   "metadata": {},
   "outputs": [
    {
     "data": {
      "image/png": "[encoded data removed]",
      "text/plain": [
       "<Figure size 1152x288 with 1 Axes>"
      ]
     },
     "metadata": {
      "needs_background": "light"
     },
     "output_type": "display_data"
    }
   ],
   "source": [
    "dt_letter_score = 14.363650798797607\n",
    "number_words_by_count = {2: 9, 3: 138, 4: 339, 5: 281, 6: 134, 7: 48, 8: 21, 9: 18, 10: 7, 11: 2, 12: 1, 13: 2}\n",
    "y_all_letters = plot_bar(number_words_by_count)"
   ]
  },
  {
   "cell_type": "markdown",
   "metadata": {},
   "source": [
    "# Look at allowed words"
   ]
  },
  {
   "cell_type": "code",
   "execution_count": 19,
   "metadata": {},
   "outputs": [
    {
     "data": {
      "image/png": "[encoded data removed]",
      "text/plain": [
       "<Figure size 1152x288 with 1 Axes>"
      ]
     },
     "metadata": {
      "needs_background": "light"
     },
     "output_type": "display_data"
    }
   ],
   "source": [
    "dt_allowed_words_score = 4591.0739669799805\n",
    "number_words_by_count = {2: 15, 3: 144, 4: 345, 5: 260, 6: 123, 7: 55, 8: 26, 9: 18, 10: 7, 11: 5, 14: 2}\n",
    "y_allowed_words = plot_bar(number_words_by_count)"
   ]
  },
  {
   "cell_type": "markdown",
   "metadata": {},
   "source": [
    "# Look at all words to find best letters"
   ]
  },
  {
   "cell_type": "code",
   "execution_count": 20,
   "metadata": {},
   "outputs": [
    {
     "data": {
      "image/png": "[encoded data removed]",
      "text/plain": [
       "<Figure size 1152x288 with 1 Axes>"
      ]
     },
     "metadata": {
      "needs_background": "light"
     },
     "output_type": "display_data"
    }
   ],
   "source": [
    "dt = 5000.753873825073\n",
    "number_words_by_count = {2: 2, 3: 99, 4: 370, 5: 365, 6: 143, 7: 17, 8: 4}\n",
    "y_all_words = plot_bar(number_words_by_count)"
   ]
  },
  {
   "cell_type": "markdown",
   "metadata": {},
   "source": [
    "# Compare all algorithms"
   ]
  },
  {
   "cell_type": "code",
   "execution_count": 21,
   "metadata": {},
   "outputs": [
    {
     "data": {
      "image/png": "[encoded data removed]",
      "text/plain": [
       "<Figure size 1152x288 with 1 Axes>"
      ]
     },
     "metadata": {
      "needs_background": "light"
     },
     "output_type": "display_data"
    }
   ],
   "source": [
    "fig, ax = plt.subplots(figsize=(16,4))\n",
    "ax.step(x, y_allowed_letters, where='mid', label='Letter score allowed words');\n",
    "ax.step(x, y_all_letters, where='mid', label='Letter score all words');\n",
    "ax.step(x, y_allowed_words, where='mid', label='Word set allowed words');\n",
    "ax.step(x, y_all_words, where='mid', label='Word set all words');\n",
    "ax.set_xlim([0.5, 14.5])\n",
    "ax.set_ylim([0, 400])\n",
    "ax.set_xlabel('Number guesses to solve')\n",
    "ax.set_xticks(x)\n",
    "ax.set_xticklabels(x)\n",
    "ax.legend(loc='best')\n",
    "ax.set_title(\"Number of words\", loc='left');"
   ]
  },
  {
   "cell_type": "code",
   "execution_count": 22,
   "metadata": {},
   "outputs": [
    {
     "data": {
      "image/png": "[encoded data removed]",
      "text/plain": [
       "<Figure size 1152x432 with 1 Axes>"
      ]
     },
     "metadata": {
      "needs_background": "light"
     },
     "output_type": "display_data"
    }
   ],
   "source": [
    "fig, ax = plt.subplots(figsize=(16,6))\n",
    "ax.barh(range(4), \n",
    "        [sum(y_allowed_letters[7:]), sum(y_all_letters[7:]), sum(y_allowed_words[7:]), sum(y_all_words[7:])], \n",
    "        tick_label=['Letter score allowed words', 'Letter score all words', 'Word set allowed words', 'Word set all words'])\n",
    "ax.invert_yaxis()\n",
    "ax.set_xlabel('Number words requiring more than 6 guesses')\n",
    "ax.set_title(\"Wordle fails by algorithm\", loc='left');"
   ]
  },
  {
   "cell_type": "markdown",
   "metadata": {},
   "source": [
    "# Other ideas\n",
    "\n",
    "## What about paying attention to letter placement"
   ]
  },
  {
   "cell_type": "code",
   "execution_count": 23,
   "metadata": {},
   "outputs": [
    {
     "data": {
      "image/png": "[encoded data removed]",
      "text/plain": [
       "<Figure size 1224x432 with 2 Axes>"
      ]
     },
     "metadata": {
      "needs_background": "light"
     },
     "output_type": "display_data"
    }
   ],
   "source": [
    "letter_count_by_location = np.zeros([5, 26])\n",
    "letter_to_index = {letter: i for i, letter in enumerate(string.ascii_lowercase)}\n",
    "for word in all_words:\n",
    "    for i in range(5):\n",
    "        letter_count_by_location[i, letter_to_index[word[i]]] += 1\n",
    "fig, ax = plt.subplots(figsize=(17,6))\n",
    "im = ax.imshow(letter_count_by_location)\n",
    "ax.set_xticks(np.arange(26))\n",
    "ax.set_xticklabels(string.ascii_lowercase)\n",
    "cbar = ax.figure.colorbar(im, ax=ax, orientation='horizontal')\n",
    "ax.set_title(\"Count of letters by location in word\", loc='left');"
   ]
  },
  {
   "cell_type": "markdown",
   "metadata": {},
   "source": [
    "## Why do some words take so long for solve\n",
    "**LILLS** was one of the longest"
   ]
  },
  {
   "cell_type": "code",
   "execution_count": 24,
   "metadata": {},
   "outputs": [
    {
     "name": "stdout",
     "output_type": "stream",
     "text": [
      "\n",
      "Number of Words Remaining: 12972\n",
      "1. toeas with score of 12417\n",
      "2. stoae with score of 12417\n",
      "3. aloes with score of 12412\n",
      "4. aeons with score of 12407\n",
      "5. soare with score of 12395\n",
      "guess = toeas\n",
      "\n",
      "Number of Words Remaining: 508\n",
      "1. ruins with score of 504\n",
      "2. rudis with score of 501\n",
      "3. nidus with score of 501\n",
      "4. munis with score of 501\n",
      "5. minus with score of 501\n",
      "guess = ruins\n",
      "\n",
      "Number of Words Remaining: 86\n",
      "1. milks with score of 65\n",
      "2. milfs with score of 61\n",
      "3. films with score of 61\n",
      "4. limbs with score of 60\n",
      "5. kilps with score of 60\n",
      "guess = milks\n",
      "\n",
      "Number of Words Remaining: 19\n",
      "1. wilds with score of 6\n",
      "2. gilds with score of 5\n",
      "3. silds with score of 4\n",
      "4. dills with score of 4\n",
      "5. wills with score of 3\n",
      "guess = wilds\n",
      "\n",
      "Number of Words Remaining: 13\n",
      "1. pills with score of 2\n",
      "2. pilis with score of 2\n",
      "3. zills with score of 1\n",
      "4. yills with score of 1\n",
      "5. vills with score of 1\n",
      "guess = pills\n",
      "\n",
      "Number of Words Remaining: 11\n",
      "1. zills with score of 1\n",
      "2. yills with score of 1\n",
      "3. vills with score of 1\n",
      "4. jills with score of 1\n",
      "5. hills with score of 1\n",
      "guess = zills\n",
      "\n",
      "Number of Words Remaining: 10\n",
      "1. yills with score of 1\n",
      "2. vills with score of 1\n",
      "3. jills with score of 1\n",
      "4. hills with score of 1\n",
      "5. gills with score of 1\n",
      "guess = yills\n",
      "\n",
      "Number of Words Remaining: 9\n",
      "1. vills with score of 1\n",
      "2. jills with score of 1\n",
      "3. hills with score of 1\n",
      "4. gills with score of 1\n",
      "5. fills with score of 1\n",
      "guess = vills\n",
      "\n",
      "Number of Words Remaining: 8\n",
      "1. jills with score of 1\n",
      "2. hills with score of 1\n",
      "3. gills with score of 1\n",
      "4. fills with score of 1\n",
      "5. cills with score of 1\n",
      "guess = jills\n",
      "\n",
      "Number of Words Remaining: 7\n",
      "1. hills with score of 1\n",
      "2. gills with score of 1\n",
      "3. fills with score of 1\n",
      "4. cills with score of 1\n",
      "5. bills with score of 1\n",
      "guess = hills\n",
      "\n",
      "Number of Words Remaining: 6\n",
      "1. gills with score of 1\n",
      "2. fills with score of 1\n",
      "3. cills with score of 1\n",
      "4. bills with score of 1\n",
      "5. sills with score of 0\n",
      "guess = gills\n",
      "\n",
      "Number of Words Remaining: 5\n",
      "1. fills with score of 1\n",
      "2. cills with score of 1\n",
      "3. bills with score of 1\n",
      "4. sills with score of 0\n",
      "5. lills with score of 0\n",
      "guess = fills\n",
      "\n",
      "Number of Words Remaining: 4\n",
      "1. cills with score of 1\n",
      "2. bills with score of 1\n",
      "3. sills with score of 0\n",
      "4. lills with score of 0\n",
      "guess = cills\n",
      "\n",
      "Number of Words Remaining: 3\n",
      "1. bills with score of 1\n",
      "2. sills with score of 0\n",
      "3. lills with score of 0\n",
      "guess = bills\n",
      "\n",
      "Number of Words Remaining: 2\n",
      "1. sills with score of 0\n",
      "2. lills with score of 0\n",
      "guess = sills\n",
      "\n",
      "Number of Words Remaining: 1\n",
      "1. lills with score of 0\n",
      "guess = lills\n",
      "('lills', 16)\n"
     ]
    },
    {
     "data": {
      "text/plain": [
       "(16, 'lills')"
      ]
     },
     "execution_count": 24,
     "metadata": {},
     "output_type": "execute_result"
    }
   ],
   "source": [
    "solve_wordle.find_steps_required_to_solve(('lills', all_words, solve_wordle.get_most_unique_score_look_at_allowed_words, 5, True))"
   ]
  },
  {
   "cell_type": "code",
   "execution_count": null,
   "metadata": {},
   "outputs": [],
   "source": []
  }
 ],
 "metadata": {
  "kernelspec": {
   "display_name": "Python 3",
   "language": "python",
   "name": "python3"
  },
  "language_info": {
   "codemirror_mode": {
    "name": "ipython",
    "version": 3
   },
   "file_extension": ".py",
   "mimetype": "text/x-python",
   "name": "python",
   "nbconvert_exporter": "python",
   "pygments_lexer": "ipython3",
   "version": "3.9.5"
  }
 },
 "nbformat": 4,
 "nbformat_minor": 4
}
